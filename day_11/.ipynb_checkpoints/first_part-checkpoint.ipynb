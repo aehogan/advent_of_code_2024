{
 "cells": [
  {
   "cell_type": "code",
   "execution_count": 2,
   "id": "162c010e-2a30-4408-855f-0e9af1f6e4d1",
   "metadata": {},
   "outputs": [],
   "source": [
    "import numpy as np"
   ]
  },
  {
   "cell_type": "code",
   "execution_count": 34,
   "id": "d1e725f2-ce4b-4450-8631-4dcf2d95e753",
   "metadata": {},
   "outputs": [
    {
     "data": {
      "text/plain": [
       "['7725', '185', '2', '132869', '0', '1840437', '62', '26310']"
      ]
     },
     "execution_count": 34,
     "metadata": {},
     "output_type": "execute_result"
    }
   ],
   "source": [
    "with open(\"input.txt\") as f:\n",
    "    data = f.readlines()[0].strip().split()\n",
    "#data = ['0']\n",
    "data"
   ]
  },
  {
   "cell_type": "code",
   "execution_count": 35,
   "id": "4206c464-24c2-429b-8d10-e7b0dd7a862f",
   "metadata": {},
   "outputs": [
    {
     "name": "stdout",
     "output_type": "stream",
     "text": [
      "0 11\n",
      "1 17\n",
      "2 24\n",
      "3 39\n",
      "4 54\n",
      "5 89\n",
      "6 144\n",
      "7 186\n",
      "8 271\n",
      "9 438\n",
      "10 712\n",
      "11 1036\n",
      "12 1511\n",
      "13 2371\n",
      "14 3564\n",
      "15 5367\n",
      "16 8269\n",
      "17 12447\n",
      "18 18814\n",
      "19 28574\n",
      "20 43741\n",
      "21 66736\n",
      "22 99748\n",
      "23 152285\n",
      "24 233050\n"
     ]
    }
   ],
   "source": [
    "data = np.array([int(x) for x in data], dtype=int)\n",
    "array = np.empty(1000000, dtype=int)\n",
    "n_stones = len(data)\n",
    "for idx in range(n_stones):\n",
    "    array[idx] = data[idx]\n",
    "for _ in range(25):\n",
    "    for idx in range(n_stones):\n",
    "        number = array[idx]\n",
    "        str_number = str(number)\n",
    "        len_number = len(str_number)\n",
    "        if number == 0:\n",
    "            array[idx] = 1\n",
    "        elif len_number % 2 == 0:\n",
    "            array[idx] = int(str_number[:len_number//2])\n",
    "            array[n_stones] = int(str_number[len_number//2:])\n",
    "            n_stones += 1\n",
    "        else:\n",
    "            array[idx] *= 2024\n",
    "    print(_, n_stones)"
   ]
  },
  {
   "cell_type": "code",
   "execution_count": null,
   "id": "9e8b77f4-d216-4150-ace3-287a6c2f9c00",
   "metadata": {},
   "outputs": [],
   "source": []
  }
 ],
 "metadata": {
  "kernelspec": {
   "display_name": "Python 3 (ipykernel)",
   "language": "python",
   "name": "python3"
  },
  "language_info": {
   "codemirror_mode": {
    "name": "ipython",
    "version": 3
   },
   "file_extension": ".py",
   "mimetype": "text/x-python",
   "name": "python",
   "nbconvert_exporter": "python",
   "pygments_lexer": "ipython3",
   "version": "3.13.1"
  }
 },
 "nbformat": 4,
 "nbformat_minor": 5
}
