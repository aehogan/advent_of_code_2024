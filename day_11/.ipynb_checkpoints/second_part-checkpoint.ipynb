{
 "cells": [
  {
   "cell_type": "code",
   "execution_count": 56,
   "id": "162c010e-2a30-4408-855f-0e9af1f6e4d1",
   "metadata": {},
   "outputs": [],
   "source": [
    "import numpy as np"
   ]
  },
  {
   "cell_type": "code",
   "execution_count": 57,
   "id": "d1e725f2-ce4b-4450-8631-4dcf2d95e753",
   "metadata": {},
   "outputs": [
    {
     "data": {
      "text/plain": [
       "array([   7725,     185,       2,  132869,       0, 1840437,      62,\n",
       "         26310])"
      ]
     },
     "execution_count": 57,
     "metadata": {},
     "output_type": "execute_result"
    }
   ],
   "source": [
    "with open(\"input.txt\") as f:\n",
    "    data = f.readlines()[0].strip().split()\n",
    "#data = ['0']\n",
    "data = np.array([int(x) for x in data], dtype=int)\n",
    "data"
   ]
  },
  {
   "cell_type": "code",
   "execution_count": 58,
   "id": "db551c5f-0de6-4ad2-9c54-dfe43b8a04ad",
   "metadata": {},
   "outputs": [],
   "source": [
    "first_iters = 13\n",
    "second_iters = 12\n",
    "#first_iters = 38\n",
    "#second_iters = 37\n",
    "\n",
    "array = np.empty(1000000000, dtype=int)\n",
    "n_stones = len(data)\n",
    "for idx in range(n_stones):\n",
    "    array[idx] = data[idx]\n",
    "for _ in range(first_iters):\n",
    "    for idx in range(n_stones):\n",
    "        number = array[idx]\n",
    "        str_number = str(number)\n",
    "        len_number = len(str_number)\n",
    "        if number == 0:\n",
    "            array[idx] = 1\n",
    "        elif len_number % 2 == 0:\n",
    "            array[idx] = int(str_number[:len_number//2])\n",
    "            array[n_stones] = int(str_number[len_number//2:])\n",
    "            n_stones += 1\n",
    "        else:\n",
    "            array[idx] *= 2024\n",
    "    print(_, n_stones)\n",
    "\n",
    "first_array = np.copy(array[:n_stones])\n",
    "distinct_vals = np.sort(np.array(list(set(list(array[:n_stones])))))\n",
    "\n",
    "print(distinct_vals)\n",
    "print(len(distinct_vals))\n",
    "\n",
    "val_to_eventual_length = {}\n",
    "for val_idx, val in enumerate(distinct_vals):\n",
    "    n_stones = 1\n",
    "    array[0] = val\n",
    "    for _ in range(second_iters):\n",
    "        for idx in range(n_stones):\n",
    "            number = array[idx]\n",
    "            str_number = str(number)\n",
    "            len_number = len(str_number)\n",
    "            if number == 0:\n",
    "                array[idx] = 1\n",
    "            elif len_number % 2 == 0:\n",
    "                array[idx] = int(str_number[:len_number//2])\n",
    "                array[n_stones] = int(str_number[len_number//2:])\n",
    "                n_stones += 1\n",
    "            else:\n",
    "                array[idx] *= 2024\n",
    "    val_to_eventual_length[val] = n_stones\n",
    "    print(val_idx, val, n_stones)\n",
    "val_to_eventual_length\n",
    "\n",
    "total = 0\n",
    "for x in first_array:\n",
    "    total += val_to_eventual_length[x]\n",
    "total"
   ]
  },
  {
   "cell_type": "code",
   "execution_count": 59,
   "id": "4206c464-24c2-429b-8d10-e7b0dd7a862f",
   "metadata": {},
   "outputs": [
    {
     "name": "stdout",
     "output_type": "stream",
     "text": [
      "0 11\n",
      "1 17\n",
      "2 24\n",
      "3 39\n",
      "4 54\n",
      "5 89\n",
      "6 144\n",
      "7 186\n",
      "8 271\n",
      "9 438\n",
      "10 712\n",
      "11 1036\n",
      "12 1511\n",
      "13 2371\n",
      "14 3564\n",
      "15 5367\n",
      "16 8269\n",
      "17 12447\n",
      "18 18814\n",
      "19 28574\n",
      "20 43741\n",
      "21 66736\n",
      "22 99748\n",
      "23 152285\n",
      "24 233050\n",
      "25 351535\n",
      "26 535268\n",
      "27 811671\n",
      "28 1234292\n",
      "29 1876123\n",
      "30 2840565\n",
      "31 4334279\n",
      "32 6568451\n",
      "33 9956889\n",
      "34 15173797\n",
      "35 23009328\n",
      "36 34970820\n",
      "37 53100087\n"
     ]
    }
   ],
   "source": []
  },
  {
   "cell_type": "code",
   "execution_count": 60,
   "id": "9e8b77f4-d216-4150-ace3-287a6c2f9c00",
   "metadata": {},
   "outputs": [],
   "source": []
  },
  {
   "cell_type": "code",
   "execution_count": 61,
   "id": "4a5ca6eb-80bc-4f47-bce8-83b841a59748",
   "metadata": {},
   "outputs": [
    {
     "name": "stdout",
     "output_type": "stream",
     "text": [
      "[           0            1            2 ... 386454593536 389731854336\n",
      " 402578716672]\n",
      "1461\n"
     ]
    }
   ],
   "source": []
  },
  {
   "cell_type": "code",
   "execution_count": 62,
   "id": "71d8e4a0-eb55-4e1a-a1ca-99d93c534bd0",
   "metadata": {},
   "outputs": [
    {
     "name": "stdout",
     "output_type": "stream",
     "text": [
      "0 0 2886408\n",
      "1 1 4414216\n",
      "2 2 4230422\n",
      "3 3 4230598\n",
      "4 4 4110895\n"
     ]
    },
    {
     "ename": "KeyboardInterrupt",
     "evalue": "",
     "output_type": "error",
     "traceback": [
      "\u001b[0;31m---------------------------------------------------------------------------\u001b[0m",
      "\u001b[0;31mKeyboardInterrupt\u001b[0m                         Traceback (most recent call last)",
      "Cell \u001b[0;32mIn[62], line 8\u001b[0m\n\u001b[1;32m      6\u001b[0m \u001b[38;5;28;01mfor\u001b[39;00m idx \u001b[38;5;129;01min\u001b[39;00m \u001b[38;5;28mrange\u001b[39m(n_stones):\n\u001b[1;32m      7\u001b[0m     number \u001b[38;5;241m=\u001b[39m array[idx]\n\u001b[0;32m----> 8\u001b[0m     str_number \u001b[38;5;241m=\u001b[39m \u001b[38;5;28;43mstr\u001b[39;49m\u001b[43m(\u001b[49m\u001b[43mnumber\u001b[49m\u001b[43m)\u001b[49m\n\u001b[1;32m      9\u001b[0m     len_number \u001b[38;5;241m=\u001b[39m \u001b[38;5;28mlen\u001b[39m(str_number)\n\u001b[1;32m     10\u001b[0m     \u001b[38;5;28;01mif\u001b[39;00m number \u001b[38;5;241m==\u001b[39m \u001b[38;5;241m0\u001b[39m:\n",
      "\u001b[0;31mKeyboardInterrupt\u001b[0m: "
     ]
    }
   ],
   "source": []
  },
  {
   "cell_type": "code",
   "execution_count": null,
   "id": "dceedbad-4c0d-42a6-996e-c0c09610a75b",
   "metadata": {},
   "outputs": [],
   "source": []
  },
  {
   "cell_type": "code",
   "execution_count": null,
   "id": "367f4e64-a3bc-44d4-857f-77fa14d9b083",
   "metadata": {},
   "outputs": [],
   "source": []
  }
 ],
 "metadata": {
  "kernelspec": {
   "display_name": "Python 3 (ipykernel)",
   "language": "python",
   "name": "python3"
  },
  "language_info": {
   "codemirror_mode": {
    "name": "ipython",
    "version": 3
   },
   "file_extension": ".py",
   "mimetype": "text/x-python",
   "name": "python",
   "nbconvert_exporter": "python",
   "pygments_lexer": "ipython3",
   "version": "3.13.1"
  }
 },
 "nbformat": 4,
 "nbformat_minor": 5
}
