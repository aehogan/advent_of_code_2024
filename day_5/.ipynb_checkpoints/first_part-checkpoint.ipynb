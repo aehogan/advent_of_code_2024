{
 "cells": [
  {
   "cell_type": "code",
   "execution_count": 32,
   "id": "c4e7af70-072d-4f83-be85-62cae4a0f5b0",
   "metadata": {},
   "outputs": [],
   "source": [
    "import numpy as np"
   ]
  },
  {
   "cell_type": "code",
   "execution_count": 33,
   "id": "370e005c-20db-478d-a51e-2499d0e223a8",
   "metadata": {},
   "outputs": [],
   "source": [
    "with open('input.txt') as f:\n",
    "    lines = f.readlines()"
   ]
  },
  {
   "cell_type": "code",
   "execution_count": 34,
   "id": "5cc681e2-0298-497b-a160-cc8c39170cbb",
   "metadata": {},
   "outputs": [],
   "source": [
    "rules = []\n",
    "for idx, line in enumerate(lines):\n",
    "    if line == \"\\n\":\n",
    "        break\n",
    "    rules.append([int(x) for x in line.strip().split('|')])"
   ]
  },
  {
   "cell_type": "code",
   "execution_count": 35,
   "id": "e52e9a09-6c17-4672-916e-262af870eefd",
   "metadata": {},
   "outputs": [
    {
     "name": "stdout",
     "output_type": "stream",
     "text": [
      "5955\n"
     ]
    }
   ],
   "source": [
    "total = 0\n",
    "for line in lines[idx+1:]:\n",
    "    pages = [int(x) for x in line.strip().split(',')]\n",
    "    valid = True\n",
    "    for rule in rules:\n",
    "        if rule[0] in pages and rule[1] in pages:\n",
    "            if not pages.index(rule[0]) < pages.index(rule[1]):\n",
    "                valid = False\n",
    "    if valid:\n",
    "        total += pages[len(pages)//2]\n",
    "print(total)"
   ]
  },
  {
   "cell_type": "code",
   "execution_count": null,
   "id": "92fb2e2d-4156-44f6-98a5-a00c75ffaace",
   "metadata": {},
   "outputs": [],
   "source": []
  }
 ],
 "metadata": {
  "kernelspec": {
   "display_name": "Python 3 (ipykernel)",
   "language": "python",
   "name": "python3"
  },
  "language_info": {
   "codemirror_mode": {
    "name": "ipython",
    "version": 3
   },
   "file_extension": ".py",
   "mimetype": "text/x-python",
   "name": "python",
   "nbconvert_exporter": "python",
   "pygments_lexer": "ipython3",
   "version": "3.12.0"
  }
 },
 "nbformat": 4,
 "nbformat_minor": 5
}
