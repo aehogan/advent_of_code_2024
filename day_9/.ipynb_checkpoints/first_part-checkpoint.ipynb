{
 "cells": [
  {
   "cell_type": "code",
   "execution_count": 38,
   "id": "15db4664-d1a1-4ea4-8cda-23466183e71c",
   "metadata": {},
   "outputs": [],
   "source": [
    "import numpy as np"
   ]
  },
  {
   "cell_type": "code",
   "execution_count": 39,
   "id": "bafeb685-b8a6-4793-8e7f-b44d7d028a75",
   "metadata": {},
   "outputs": [
    {
     "data": {
      "text/plain": [
       "'2333133121414131402'"
      ]
     },
     "execution_count": 39,
     "metadata": {},
     "output_type": "execute_result"
    }
   ],
   "source": [
    "with open('input_small.txt') as f:\n",
    "    input = f.readlines()[0]\n",
    "input"
   ]
  },
  {
   "cell_type": "code",
   "execution_count": 40,
   "id": "3a8c6e62-89ee-4d98-a449-419bfeef5c5c",
   "metadata": {},
   "outputs": [
    {
     "data": {
      "text/plain": [
       "42"
      ]
     },
     "execution_count": 40,
     "metadata": {},
     "output_type": "execute_result"
    }
   ],
   "source": [
    "total_size = 0\n",
    "for char in input:\n",
    "    total_size += int(char)\n",
    "total_size"
   ]
  },
  {
   "cell_type": "code",
   "execution_count": 44,
   "id": "f2fd6e5c-2383-4a9e-8dbc-758c85abd22a",
   "metadata": {},
   "outputs": [
    {
     "data": {
      "text/plain": [
       "array([ 0,  0, -1, -1, -1,  1,  1,  1, -1, -1, -1,  2, -1, -1, -1,  3,  3,\n",
       "        3, -1,  4,  4, -1,  5,  5,  5,  5, -1,  6,  6,  6,  6, -1,  7,  7,\n",
       "        7, -1,  8,  8,  8,  8,  9,  9])"
      ]
     },
     "execution_count": 44,
     "metadata": {},
     "output_type": "execute_result"
    }
   ],
   "source": [
    "data = -np.ones(total_size, dtype=int)\n",
    "current_file = 0\n",
    "current_pointer = 0\n",
    "for char_idx, char in enumerate(input):\n",
    "    size = int(char)\n",
    "    if char_idx % 2 == 0:\n",
    "        data[current_pointer:current_pointer+size] = current_file\n",
    "        current_file += 1\n",
    "    current_pointer += size\n",
    "data"
   ]
  },
  {
   "cell_type": "code",
   "execution_count": 46,
   "id": "cf0a6f38-b4aa-42d8-9689-5491a11ecedf",
   "metadata": {},
   "outputs": [
    {
     "name": "stdout",
     "output_type": "stream",
     "text": [
      "2 41 -1 9\n",
      "3 40 -1 9\n",
      "4 39 -1 8\n",
      "8 38 -1 8\n",
      "9 37 -1 8\n",
      "10 36 -1 8\n",
      "12 34 -1 7\n",
      "13 33 -1 7\n",
      "14 32 -1 7\n",
      "18 30 -1 6\n",
      "21 29 -1 6\n",
      "26 28 -1 6\n",
      "28 27 -1 6\n"
     ]
    },
    {
     "data": {
      "text/plain": [
       "array([ 0,  0,  9,  9,  8,  1,  1,  1,  8,  8,  8,  2,  7,  7,  7,  3,  3,\n",
       "        3,  6,  4,  4,  6,  5,  5,  5,  5,  6, -1,  6, -1, -1, -1, -1, -1,\n",
       "       -1, -1, -1, -1, -1, -1, -1, -1])"
      ]
     },
     "execution_count": 46,
     "metadata": {},
     "output_type": "execute_result"
    }
   ],
   "source": [
    "left_ptr = 0\n",
    "right_ptr = total_size - 1\n",
    "while True:\n",
    "    while data[left_ptr] != -1:\n",
    "        left_ptr += 1\n",
    "    while data[right_ptr] == -1:\n",
    "        right_ptr -= 1\n",
    "    if left_ptr > right_ptr:\n",
    "        break\n",
    "    print(left_ptr, right_ptr, data[left_ptr], data[right_ptr])\n",
    "    data[left_ptr] = data[right_ptr]\n",
    "    data[right_ptr] = -1\n",
    "data"
   ]
  },
  {
   "cell_type": "code",
   "execution_count": 43,
   "id": "d048eb61-1b22-4dfe-821c-5960678726ec",
   "metadata": {},
   "outputs": [
    {
     "name": "stdout",
     "output_type": "stream",
     "text": [
      "28\n",
      "27\n"
     ]
    }
   ],
   "source": [
    "print(left_ptr)\n",
    "print(right_ptr)"
   ]
  },
  {
   "cell_type": "code",
   "execution_count": 30,
   "id": "a0b83305-5294-45ea-b68a-12581333609c",
   "metadata": {},
   "outputs": [
    {
     "data": {
      "text/plain": [
       "1934"
      ]
     },
     "execution_count": 30,
     "metadata": {},
     "output_type": "execute_result"
    }
   ],
   "source": [
    "total = 0\n",
    "for idx, x in enumerate(data):\n",
    "    if x == -1:\n",
    "        continue\n",
    "    total += idx*x\n",
    "total"
   ]
  },
  {
   "cell_type": "code",
   "execution_count": null,
   "id": "ec1bf0b0-79de-41e0-affe-89d7edb60240",
   "metadata": {},
   "outputs": [],
   "source": []
  }
 ],
 "metadata": {
  "kernelspec": {
   "display_name": "Python 3 (ipykernel)",
   "language": "python",
   "name": "python3"
  },
  "language_info": {
   "codemirror_mode": {
    "name": "ipython",
    "version": 3
   },
   "file_extension": ".py",
   "mimetype": "text/x-python",
   "name": "python",
   "nbconvert_exporter": "python",
   "pygments_lexer": "ipython3",
   "version": "3.12.0"
  }
 },
 "nbformat": 4,
 "nbformat_minor": 5
}
