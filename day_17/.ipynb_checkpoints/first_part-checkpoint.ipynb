{
 "cells": [
  {
   "cell_type": "code",
   "execution_count": 75,
   "id": "ff484967-442e-400f-8681-2b30cb09c545",
   "metadata": {},
   "outputs": [],
   "source": [
    "import numpy as np\n",
    "import itertools\n",
    "import re"
   ]
  },
  {
   "cell_type": "code",
   "execution_count": 76,
   "id": "ac011b06-4bd4-4e92-aee3-68fa04691b71",
   "metadata": {},
   "outputs": [
    {
     "name": "stdout",
     "output_type": "stream",
     "text": [
      "0\n",
      "[2, 4, 1, 3, 7, 5, 0, 3, 4, 1, 1, 5, 5, 5, 3, 0]\n",
      "{'A': 45483412, 'B': 0, 'C': 0}\n"
     ]
    }
   ],
   "source": [
    "registers = {}\n",
    "memory = []\n",
    "pointer = 0\n",
    "\n",
    "with open('input.txt') as f:\n",
    "    regex = 'Register ([ABC]): ([0-9]*)'\n",
    "    for line in itertools.takewhile(lambda x: x != '\\n', f):\n",
    "        match = re.match(regex, line)\n",
    "        registers[match.group(1)] = int(match.group(2))\n",
    "    regex = 'Program: (.*)'\n",
    "    for line in f:\n",
    "        match = re.match(regex, line)\n",
    "        for byte in match.group(1).split(','):\n",
    "            memory.append(int(byte))\n",
    "\n",
    "print(pointer)\n",
    "print(memory)\n",
    "print(registers)"
   ]
  },
  {
   "cell_type": "code",
   "execution_count": 77,
   "id": "781bd988-010c-403a-a24e-e08fba1e4fba",
   "metadata": {},
   "outputs": [],
   "source": [
    "'''\n",
    "    Combo operands 0 through 3 represent literal values 0 through 3.\n",
    "    Combo operand 4 represents the value of register A.\n",
    "    Combo operand 5 represents the value of register B.\n",
    "    Combo operand 6 represents the value of register C.\n",
    "    Combo operand 7 is reserved and will not appear in valid programs.\n",
    "'''\n",
    "def get_combo_operand(operand):\n",
    "    if operand >= 0 and operand <= 3:\n",
    "        return operand\n",
    "    elif operand == 4:\n",
    "        return registers['A']\n",
    "    elif operand == 5:\n",
    "        return registers['B']\n",
    "    elif operand == 6:\n",
    "        return registers['C']\n",
    "    elif operand == 7:\n",
    "        raise ValueError"
   ]
  },
  {
   "cell_type": "code",
   "execution_count": 78,
   "id": "0b844754-cebd-43f5-adca-5e3c4c092484",
   "metadata": {},
   "outputs": [],
   "source": [
    "def execute_instruction():\n",
    "    global pointer\n",
    "    opcode = memory[pointer]\n",
    "    operand = memory[pointer+1]\n",
    "    pointer += 2\n",
    "    \n",
    "    if opcode == 0 or opcode == 2 or opcode == 5 or opcode == 6 or opcode == 7:\n",
    "        operand = get_combo_operand(operand)\n",
    "\n",
    "    if opcode == 0:\n",
    "        '''\n",
    "        The adv instruction (opcode 0) performs division.\n",
    "        The numerator is the value in the A register.\n",
    "        The denominator is found by raising 2 to the power of the instruction's combo operand.\n",
    "        (So, an operand of 2 would divide A by 4 (2^2); an operand of 5 would divide A by 2^B.)\n",
    "        The result of the division operation is truncated to an integer and then written to the A register.\n",
    "        '''\n",
    "        registers['A'] = int(registers['A'] / (np.pow(2, operand)))\n",
    "    elif opcode == 1:\n",
    "        '''\n",
    "        The bxl instruction (opcode 1) calculates the bitwise XOR of register B and the instruction's literal operand,\n",
    "        then stores the result in register B.\n",
    "        '''\n",
    "        registers['B'] = registers['B'] ^ operand\n",
    "    elif opcode == 2:\n",
    "        '''\n",
    "        The bst instruction (opcode 2) calculates the value of its combo operand modulo 8\n",
    "        (thereby keeping only its lowest 3 bits), then writes that value to the B register.\n",
    "        '''\n",
    "        registers['B'] = operand % 8\n",
    "    elif opcode == 3:\n",
    "        '''\n",
    "        The jnz instruction (opcode 3) does nothing if the A register is 0.\n",
    "        However, if the A register is not zero, it jumps by setting the instruction pointer\n",
    "        to the value of its literal operand; if this instruction jumps, the instruction pointer\n",
    "        is not increased by 2 after this instruction.\n",
    "        '''\n",
    "        if registers['A'] != 0:\n",
    "            pointer = operand\n",
    "    elif opcode == 4:\n",
    "        '''\n",
    "        The bxc instruction (opcode 4) calculates the bitwise XOR of register B and register C,\n",
    "        then stores the result in register B. (For legacy reasons, this instruction reads an operand\n",
    "        but ignores it.)\n",
    "        '''\n",
    "        registers['B'] = registers['B'] ^ registers['C']\n",
    "    elif opcode == 5:\n",
    "        '''\n",
    "        The out instruction (opcode 5) calculates the value of its combo operand modulo 8,\n",
    "        then outputs that value. (If a program outputs multiple values, they are separated by commas.)\n",
    "        '''\n",
    "        outputs.append(operand % 8)\n",
    "    elif opcode == 6:\n",
    "        '''\n",
    "        The bdv instruction (opcode 6) works exactly like the adv instruction except that the\n",
    "        result is stored in the B register. (The numerator is still read from the A register.)\n",
    "        '''\n",
    "        registers['B'] = int(registers['A'] / (np.pow(2, operand)))\n",
    "    elif opcode == 7:\n",
    "        '''\n",
    "        The cdv instruction (opcode 7) works exactly like the adv instruction except that the\n",
    "        result is stored in the C register. (The numerator is still read from the A register.)\n",
    "        '''\n",
    "        registers['C'] = int(registers['A'] / (np.pow(2, operand)))"
   ]
  },
  {
   "cell_type": "code",
   "execution_count": 79,
   "id": "c06e0f35-3f0a-4bb9-8d66-9a7873275351",
   "metadata": {},
   "outputs": [
    {
     "name": "stdout",
     "output_type": "stream",
     "text": [
      "1,5,0,5,2,0,1,3,5\n"
     ]
    }
   ],
   "source": [
    "outputs = []\n",
    "pointer = 0\n",
    "while pointer < len(memory):\n",
    "    execute_instruction()\n",
    "\n",
    "print(\",\".join([str(output) for output in outputs]))"
   ]
  },
  {
   "cell_type": "code",
   "execution_count": null,
   "id": "fb091191-9651-4f61-b924-fc4790c242ec",
   "metadata": {},
   "outputs": [],
   "source": []
  }
 ],
 "metadata": {
  "kernelspec": {
   "display_name": "Python 3 (ipykernel)",
   "language": "python",
   "name": "python3"
  },
  "language_info": {
   "codemirror_mode": {
    "name": "ipython",
    "version": 3
   },
   "file_extension": ".py",
   "mimetype": "text/x-python",
   "name": "python",
   "nbconvert_exporter": "python",
   "pygments_lexer": "ipython3",
   "version": "3.13.1"
  }
 },
 "nbformat": 4,
 "nbformat_minor": 5
}
