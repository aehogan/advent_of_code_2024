{
 "cells": [
  {
   "cell_type": "code",
   "execution_count": 2,
   "id": "11cebb5f-ad62-4b8d-a364-0ad86fbf0eef",
   "metadata": {},
   "outputs": [],
   "source": [
    "import numpy as np"
   ]
  },
  {
   "cell_type": "code",
   "execution_count": 3,
   "id": "204f1ee7-7121-4991-89ac-7b78966fc122",
   "metadata": {},
   "outputs": [
    {
     "data": {
      "text/plain": [
       "array([[82, 82, 82, 82, 73, 73, 67, 67, 70, 70],\n",
       "       [82, 82, 82, 82, 73, 73, 67, 67, 67, 70],\n",
       "       [86, 86, 82, 82, 82, 67, 67, 70, 70, 70],\n",
       "       [86, 86, 82, 67, 67, 67, 74, 70, 70, 70],\n",
       "       [86, 86, 86, 86, 67, 74, 74, 67, 70, 69],\n",
       "       [86, 86, 73, 86, 67, 67, 74, 74, 69, 69],\n",
       "       [86, 86, 73, 73, 73, 67, 74, 74, 69, 69],\n",
       "       [77, 73, 73, 73, 73, 73, 74, 74, 69, 69],\n",
       "       [77, 73, 73, 73, 83, 73, 74, 69, 69, 69],\n",
       "       [77, 77, 77, 73, 83, 83, 74, 69, 69, 69]])"
      ]
     },
     "execution_count": 3,
     "metadata": {},
     "output_type": "execute_result"
    }
   ],
   "source": [
    "with open(\"input_small.txt\") as f:\n",
    "    lines = f.readlines()\n",
    "data = [[ord(char) for char in line.strip()] for line in lines]\n",
    "data = np.array(data)\n",
    "data"
   ]
  },
  {
   "cell_type": "code",
   "execution_count": 4,
   "id": "773af6c8-77bc-44c8-961f-72768a54d706",
   "metadata": {},
   "outputs": [],
   "source": [
    "shifts = (np.array([1, 0]), np.array([-1, 0]), np.array([0, 1]), np.array([0, -1]))\n",
    "def get_nearby_cells(start_pos):\n",
    "    nearby = []\n",
    "    for shift in shifts:\n",
    "        pos = start_pos + shift\n",
    "        if np.all(pos >= 0) and np.all(pos < data.shape):\n",
    "            nearby.append([int(x) for x in pos])\n",
    "    return nearby\n",
    "\n",
    "def get_borders(start_pos):\n",
    "    borders = []\n",
    "    region = regions[start_pos[1], start_pos[0]]\n",
    "    for shift in shifts:\n",
    "        pos = start_pos + shift\n",
    "        if np.all(pos >= 0) and np.all(pos < regions.shape):\n",
    "            if region != regions[pos[1], pos[0]]:\n",
    "                borders.append([int(x) for x in pos])\n",
    "        else:\n",
    "            borders.append([int(x) for x in pos])\n",
    "    return borders"
   ]
  },
  {
   "cell_type": "code",
   "execution_count": 5,
   "id": "8f03e6da-df91-48b7-b60d-46b95b4686c8",
   "metadata": {},
   "outputs": [
    {
     "name": "stdout",
     "output_type": "stream",
     "text": [
      "[[ 1  1  1  1  2  2  3  3  4  4]\n",
      " [ 1  1  1  1  2  2  3  3  3  4]\n",
      " [ 5  5  1  1  1  3  3  4  4  4]\n",
      " [ 5  5  1  3  3  3  6  4  4  4]\n",
      " [ 5  5  5  5  3  6  6  7  4  8]\n",
      " [ 5  5  9  5  3  3  6  6  8  8]\n",
      " [ 5  5  9  9  9  3  6  6  8  8]\n",
      " [10  9  9  9  9  9  6  6  8  8]\n",
      " [10  9  9  9 11  9  6  8  8  8]\n",
      " [10 10 10  9 11 11  6  8  8  8]]\n",
      "{1: np.int64(82), 2: np.int64(73), 3: np.int64(67), 4: np.int64(70), 5: np.int64(86), 6: np.int64(74), 7: np.int64(67), 8: np.int64(69), 9: np.int64(73), 10: np.int64(77), 11: np.int64(83)}\n",
      "{1: [[0, 0], [1, 0], [0, 1], [2, 0], [1, 1], [3, 0], [2, 1], [3, 1], [2, 2], [3, 2], [2, 3], [4, 2]], 2: [[4, 0], [5, 0], [4, 1], [5, 1]], 3: [[6, 0], [7, 0], [6, 1], [7, 1], [6, 2], [8, 1], [5, 2], [5, 3], [4, 3], [3, 3], [4, 4], [4, 5], [5, 5], [5, 6]], 4: [[8, 0], [9, 0], [9, 1], [9, 2], [8, 2], [9, 3], [7, 2], [8, 3], [7, 3], [8, 4]], 5: [[0, 2], [1, 2], [0, 3], [1, 3], [0, 4], [1, 4], [0, 5], [2, 4], [1, 5], [0, 6], [3, 4], [1, 6], [3, 5]], 6: [[6, 3], [6, 4], [5, 4], [6, 5], [7, 5], [6, 6], [7, 6], [6, 7], [7, 7], [6, 8], [6, 9]], 7: [[7, 4]], 8: [[9, 4], [9, 5], [8, 5], [9, 6], [8, 6], [9, 7], [8, 7], [9, 8], [8, 8], [9, 9], [7, 8], [8, 9], [7, 9]], 9: [[2, 5], [2, 6], [3, 6], [2, 7], [4, 6], [3, 7], [1, 7], [2, 8], [4, 7], [3, 8], [1, 8], [5, 7], [3, 9], [5, 8]], 10: [[0, 7], [0, 8], [0, 9], [1, 9], [2, 9]], 11: [[4, 8], [4, 9], [5, 9]]}\n"
     ]
    }
   ],
   "source": [
    "region_to_plant = {}\n",
    "region_to_coords = {}\n",
    "regions = np.zeros_like(data)\n",
    "regions\n",
    "n_regions = 0\n",
    "while True:\n",
    "    for y, row in enumerate(regions):\n",
    "        for x, region in enumerate(row):\n",
    "            if region == 0:\n",
    "                break\n",
    "        if region == 0:\n",
    "            break\n",
    "    if region == 0:\n",
    "        n_regions += 1\n",
    "        current_plant = data[y, x]\n",
    "        region_to_plant[n_regions] = current_plant\n",
    "        region_to_coords[n_regions] = [[x, y]]\n",
    "        regions[y, x] = n_regions\n",
    "        while True:\n",
    "            changed = False\n",
    "            for pos in region_to_coords[n_regions]:\n",
    "                nearbys = get_nearby_cells(pos)\n",
    "                for nearby in nearbys:\n",
    "                    if nearby not in region_to_coords[n_regions] and data[nearby[1], nearby[0]] == current_plant:\n",
    "                        changed = True\n",
    "                        region_to_coords[n_regions].append(nearby)\n",
    "                        regions[nearby[1], nearby[0]] = n_regions\n",
    "            if not changed:\n",
    "                break\n",
    "        #break\n",
    "    else:\n",
    "        break\n",
    "print(regions)\n",
    "print(region_to_plant)\n",
    "print(region_to_coords)"
   ]
  },
  {
   "cell_type": "code",
   "execution_count": 9,
   "id": "cc20bd3e-c5c9-40ab-bbc0-06a353999c08",
   "metadata": {},
   "outputs": [
    {
     "data": {
      "text/plain": [
       "[[2, 2], [0, 0], [0, 2], [2, 0]]"
      ]
     },
     "execution_count": 9,
     "metadata": {},
     "output_type": "execute_result"
    }
   ],
   "source": [
    "diag_shifts = (np.array([1, 1]), np.array([-1, -1]), np.array([-1, 1]), np.array([1, -1]))\n",
    "def get_diag_cells(start_pos):\n",
    "    nearby = []\n",
    "    for shift in diag_shifts:\n",
    "        pos = start_pos + shift\n",
    "        if np.all(pos >= 0) and np.all(pos < data.shape):\n",
    "            nearby.append([int(x) for x in pos])\n",
    "    return nearby\n",
    "\n",
    "def get_vertices(start_pos):\n",
    "    borders = []\n",
    "    region = regions[start_pos[1], start_pos[0]]\n",
    "    for shift in shifts:\n",
    "        pos = start_pos + shift\n",
    "        if np.all(pos >= 0) and np.all(pos < regions.shape):\n",
    "            if region != regions[pos[1], pos[0]]:\n",
    "                borders.append([int(x) for x in pos])\n",
    "        else:\n",
    "            borders.append([int(x) for x in pos])\n",
    "    return borders\n",
    "\n",
    "get_diag_cells([1, 1])"
   ]
  },
  {
   "cell_type": "code",
   "execution_count": 7,
   "id": "9499e231-0228-40ad-8de2-edf179217c35",
   "metadata": {},
   "outputs": [
    {
     "name": "stdout",
     "output_type": "stream",
     "text": [
      "[(2, -1), (1, 3), (1, 2), (4, 0), (3, -1), (2, 4), (4, 1), (4, 3), (-1, 1), (1, -1), (-1, 0), (0, 2), (3, 3), (0, -1), (5, 2)]\n",
      "12 15 180\n",
      "[(3, 1), (5, -1), (6, 1), (4, 2), (3, 0), (6, 0), (4, -1), (5, 2)]\n",
      "4 8 32\n",
      "[(3, 4), (5, 4), (4, 6), (5, 1), (8, 0), (5, 7), (7, -1), (6, 5), (4, 2), (5, 0), (8, 2), (9, 1), (6, -1), (3, 2), (3, 5), (2, 3), (7, 2), (6, 6), (6, 3)]\n",
      "14 19 266\n",
      "[(7, 4), (6, 2), (8, -1), (7, 1), (8, 1), (7, 0), (10, 1), (10, 0), (9, -1), (6, 3), (10, 3), (8, 5), (10, 2), (9, 4)]\n",
      "10 14 140\n",
      "[(0, 1), (0, 7), (4, 4), (-1, 4), (1, 1), (2, 3), (1, 7), (3, 3), (-1, 3), (2, 5), (2, 6), (2, 2), (-1, 6), (4, 5), (3, 6), (-1, 2), (-1, 5)]\n",
      "13 17 221\n",
      "[(4, 4), (7, 4), (6, 2), (5, 5), (5, 8), (8, 7), (5, 7), (7, 3), (7, 9), (5, 6), (8, 6), (6, 10), (5, 3), (5, 9), (8, 5), (7, 8)]\n",
      "11 16 176\n",
      "[(7, 5), (8, 4), (6, 4), (7, 3)]\n",
      "1 4 4\n",
      "[(9, 10), (10, 5), (8, 4), (7, 7), (9, 3), (10, 8), (10, 4), (6, 8), (7, 10), (8, 10), (10, 7), (7, 6), (10, 6), (10, 9), (7, 5), (6, 9)]\n",
      "13 16 208\n",
      "[(0, 7), (2, 4), (1, 5), (4, 9), (6, 8), (3, 10), (2, 9), (4, 5), (6, 7), (5, 9), (5, 6), (4, 8), (1, 6), (0, 8), (1, 9), (3, 5)]\n",
      "14 16 224\n",
      "[(-1, 8), (0, 10), (-1, 7), (1, 8), (2, 10), (0, 6), (1, 7), (3, 9), (-1, 9), (1, 10), (2, 8)]\n",
      "5 11 55\n",
      "[(4, 10), (3, 8), (5, 8), (5, 10), (3, 9), (6, 9), (4, 7)]\n",
      "3 7 21\n",
      "1527\n"
     ]
    }
   ],
   "source": [
    "total = 0\n",
    "for region, coords in region_to_coords.items():\n",
    "    #print(region, coords)\n",
    "    borders = []\n",
    "    for coord in coords:\n",
    "        for border in get_borders(coord):\n",
    "            borders.append(border)\n",
    "    area = len(coords)\n",
    "    borders = list(set(map(tuple, borders)))\n",
    "    print(borders)\n",
    "    perimeter = len(borders)\n",
    "    total += area*perimeter\n",
    "    print(area, perimeter, area*perimeter)\n",
    "print(total)"
   ]
  },
  {
   "cell_type": "code",
   "execution_count": null,
   "id": "794e55cc-bb06-4ade-9936-b8c90a67065d",
   "metadata": {},
   "outputs": [],
   "source": []
  }
 ],
 "metadata": {
  "kernelspec": {
   "display_name": "Python 3 (ipykernel)",
   "language": "python",
   "name": "python3"
  },
  "language_info": {
   "codemirror_mode": {
    "name": "ipython",
    "version": 3
   },
   "file_extension": ".py",
   "mimetype": "text/x-python",
   "name": "python",
   "nbconvert_exporter": "python",
   "pygments_lexer": "ipython3",
   "version": "3.13.1"
  }
 },
 "nbformat": 4,
 "nbformat_minor": 5
}
