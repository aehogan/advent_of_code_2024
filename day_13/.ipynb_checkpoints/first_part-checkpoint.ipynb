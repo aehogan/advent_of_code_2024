{
 "cells": [
  {
   "cell_type": "code",
   "execution_count": 1,
   "id": "4007c3af-6f7a-45df-abea-af5ed0915319",
   "metadata": {},
   "outputs": [],
   "source": [
    "import numpy as np\n",
    "import re"
   ]
  },
  {
   "cell_type": "code",
   "execution_count": 3,
   "id": "69d7fb2a-be8a-4ffa-9a78-7eb670c7912c",
   "metadata": {},
   "outputs": [
    {
     "name": "stdout",
     "output_type": "stream",
     "text": [
      "a Button A: X+94, Y+34\n",
      "b Button B: X+22, Y+67\n",
      "prize Prize: X=8400, Y=5400\n",
      "a Button A: X+26, Y+66\n",
      "b Button B: X+67, Y+21\n",
      "prize Prize: X=12748, Y=12176\n",
      "a Button A: X+17, Y+86\n",
      "b Button B: X+84, Y+37\n",
      "prize Prize: X=7870, Y=6450\n",
      "a Button A: X+69, Y+23\n",
      "b Button B: X+27, Y+71\n",
      "prize Prize: X=18641, Y=10279\n"
     ]
    },
    {
     "data": {
      "text/plain": [
       "[{'A': [], 'B': [], 'Prize': []},\n",
       " {'A': [], 'B': [], 'Prize': []},\n",
       " {'A': [], 'B': [], 'Prize': []},\n",
       " {'A': [], 'B': [], 'Prize': []}]"
      ]
     },
     "execution_count": 3,
     "metadata": {},
     "output_type": "execute_result"
    }
   ],
   "source": [
    "with open(\"input_small.txt\") as f:\n",
    "    lines = f.readlines()\n",
    "\n",
    "machines = []\n",
    "machine = None\n",
    "\n",
    "for line in lines:\n",
    "    line = line.strip()\n",
    "    if machine is None:\n",
    "        machine = {\"A\": [], \"B\": [], \"Prize\": []}\n",
    "    if len(line) == 0:\n",
    "        machines.append(machine)\n",
    "        machine = None\n",
    "    elif line[:5] == \"Prize\":\n",
    "        pattern = r\"X=([0-9]*), Y=([0-9]*)\"\n",
    "        #machine[\"Prize\"] = [int(), int()]\n",
    "    elif line[:8] == \"Button A\":\n",
    "        print(\"a\", line)\n",
    "    elif line[:8]:\n",
    "        print(\"b\", line)\n",
    "\n",
    "if machine is not None:\n",
    "    machines.append(machine)\n",
    "    machine = None\n",
    "\n",
    "machines"
   ]
  },
  {
   "cell_type": "code",
   "execution_count": null,
   "id": "0553f355-a258-44a4-a71b-3721bba0c908",
   "metadata": {},
   "outputs": [],
   "source": []
  }
 ],
 "metadata": {
  "kernelspec": {
   "display_name": "Python 3 (ipykernel)",
   "language": "python",
   "name": "python3"
  },
  "language_info": {
   "codemirror_mode": {
    "name": "ipython",
    "version": 3
   },
   "file_extension": ".py",
   "mimetype": "text/x-python",
   "name": "python",
   "nbconvert_exporter": "python",
   "pygments_lexer": "ipython3",
   "version": "3.12.0"
  }
 },
 "nbformat": 4,
 "nbformat_minor": 5
}
