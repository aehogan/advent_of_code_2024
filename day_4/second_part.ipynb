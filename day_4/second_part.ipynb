{
 "cells": [
  {
   "cell_type": "code",
   "execution_count": 35,
   "id": "cca503a9-2ca7-4e53-9e6e-c23f0bb3afdd",
   "metadata": {},
   "outputs": [],
   "source": [
    "import numpy as np"
   ]
  },
  {
   "cell_type": "code",
   "execution_count": 46,
   "id": "e18b29d1-bb23-4051-8d5e-ca9a05c2524d",
   "metadata": {},
   "outputs": [
    {
     "name": "stdout",
     "output_type": "stream",
     "text": [
      "[[77 83 83 ... 77 88 88]\n",
      " [65 65 77 ... 77 65 77]\n",
      " [77 77 83 ... 77 88 65]\n",
      " ...\n",
      " [77 65 77 ... 83 83 77]\n",
      " [77 77 77 ... 77 88 65]\n",
      " [83 88 83 ... 83 65 83]]\n",
      "[88 77 65 83]\n"
     ]
    }
   ],
   "source": [
    "data = np.loadtxt('input.txt', dtype=str)\n",
    "data = data.view(np.int32).reshape((data.shape[0], -1))\n",
    "print(data)\n",
    "xmas = np.array(['XMAS'], dtype=str).view(np.int32)\n",
    "print(xmas)"
   ]
  },
  {
   "cell_type": "code",
   "execution_count": 47,
   "id": "25b90c35-4c3a-4a2b-87f5-6719746a0612",
   "metadata": {},
   "outputs": [
    {
     "name": "stdout",
     "output_type": "stream",
     "text": [
      "1807\n"
     ]
    }
   ],
   "source": [
    "sum = 0\n",
    "for x in np.arange(0, data.shape[1]-2):\n",
    "    for y in np.arange(0, data.shape[0]-2):\n",
    "        square = data[y:y+3,x:x+3]\n",
    "        if square[1][1] == 65:\n",
    "            if square[0][0] == 77 and square[0][2] == 77 and square[2][0] == 83 and square[2][2] == 83:\n",
    "                #print('a')\n",
    "                #print(square)\n",
    "                sum += 1\n",
    "            if square[0][0] == 77 and square[0][2] == 83 and square[2][0] == 77 and square[2][2] == 83:\n",
    "                #print('b')\n",
    "                #print(square)\n",
    "                sum += 1\n",
    "            if square[0][0] == 83 and square[0][2] == 83 and square[2][0] == 77 and square[2][2] == 77:\n",
    "                #print('c')\n",
    "                #print(square)\n",
    "                sum += 1\n",
    "            if square[0][0] == 83 and square[0][2] == 77 and square[2][0] == 83 and square[2][2] == 77:\n",
    "                #print('d')\n",
    "                #print(square)\n",
    "                sum += 1\n",
    "print(sum)\n",
    "# 1931 high"
   ]
  },
  {
   "cell_type": "code",
   "execution_count": null,
   "id": "d0169370-8243-4c13-a884-7dc1421ca90e",
   "metadata": {},
   "outputs": [],
   "source": []
  }
 ],
 "metadata": {
  "kernelspec": {
   "display_name": "Python 3 (ipykernel)",
   "language": "python",
   "name": "python3"
  },
  "language_info": {
   "codemirror_mode": {
    "name": "ipython",
    "version": 3
   },
   "file_extension": ".py",
   "mimetype": "text/x-python",
   "name": "python",
   "nbconvert_exporter": "python",
   "pygments_lexer": "ipython3",
   "version": "3.12.0"
  }
 },
 "nbformat": 4,
 "nbformat_minor": 5
}
