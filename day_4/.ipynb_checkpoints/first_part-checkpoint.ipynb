{
 "cells": [
  {
   "cell_type": "code",
   "execution_count": 1,
   "id": "011a15f7-af8c-49bd-bceb-089b425d20f6",
   "metadata": {},
   "outputs": [],
   "source": [
    "import numpy as np"
   ]
  },
  {
   "cell_type": "code",
   "execution_count": 76,
   "id": "4d5cf712-1e6b-428d-a865-0b64adcf8f83",
   "metadata": {},
   "outputs": [
    {
     "name": "stdout",
     "output_type": "stream",
     "text": [
      "2406\n"
     ]
    }
   ],
   "source": [
    "data = np.loadtxt('input.txt', dtype=str)\n",
    "data = data.view(np.int32).reshape((data.shape[0], -1))\n",
    "xmas = np.array(['XMAS'], dtype=str).view(np.int32)\n",
    "xmas_convolved = np.convolve(xmas, xmas, mode='valid')[0]\n",
    "\n",
    "sum = np.zeros(8, dtype=int)\n",
    "\n",
    "for line in data:\n",
    "    sum[0] += (np.convolve(line, xmas, mode='valid') == xmas_convolved).sum()\n",
    "\n",
    "for line in data:\n",
    "    sum[1] += (np.convolve(line[::-1], xmas, mode='valid') == xmas_convolved).sum()\n",
    "\n",
    "for line in np.transpose(data):\n",
    "    sum[2] += (np.convolve(line, xmas, mode='valid') == xmas_convolved).sum()\n",
    "\n",
    "for line in np.transpose(data):\n",
    "    sum[3] += (np.convolve(line[::-1], xmas, mode='valid') == xmas_convolved).sum()\n",
    "\n",
    "for offset in np.arange(-data.shape[0]+4, data.shape[0]-3):\n",
    "    line = np.diagonal(data, offset=offset)\n",
    "    sum[4] += (np.convolve(line, xmas, mode='valid') == xmas_convolved).sum()\n",
    "    sum[5] += (np.convolve(line[::-1], xmas, mode='valid') == xmas_convolved).sum()\n",
    "    line = np.diagonal(np.flip(data, axis=1), offset=offset)\n",
    "    sum[6] += (np.convolve(line, xmas, mode='valid') == xmas_convolved).sum()\n",
    "    sum[7] += (np.convolve(line[::-1], xmas, mode='valid') == xmas_convolved).sum()\n",
    "\n",
    "print(sum.sum())"
   ]
  },
  {
   "cell_type": "code",
   "execution_count": null,
   "id": "8afb3874-c40f-49ea-95ca-3c1cf19a2d43",
   "metadata": {},
   "outputs": [],
   "source": []
  }
 ],
 "metadata": {
  "kernelspec": {
   "display_name": "Python 3 (ipykernel)",
   "language": "python",
   "name": "python3"
  },
  "language_info": {
   "codemirror_mode": {
    "name": "ipython",
    "version": 3
   },
   "file_extension": ".py",
   "mimetype": "text/x-python",
   "name": "python",
   "nbconvert_exporter": "python",
   "pygments_lexer": "ipython3",
   "version": "3.12.0"
  }
 },
 "nbformat": 4,
 "nbformat_minor": 5
}
