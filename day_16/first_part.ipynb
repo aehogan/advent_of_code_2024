{
 "cells": [
  {
   "cell_type": "code",
   "execution_count": 1,
   "id": "aa8921f1-d925-4a9c-aa6f-03a5ababb753",
   "metadata": {},
   "outputs": [],
   "source": [
    "import numpy as np\n",
    "import itertools"
   ]
  },
  {
   "cell_type": "code",
   "execution_count": 14,
   "id": "9199fbc8-56ec-44e8-b883-9934805a8190",
   "metadata": {},
   "outputs": [
    {
     "name": "stdout",
     "output_type": "stream",
     "text": [
      "(1, 13)\n",
      "(13, 1)\n"
     ]
    },
    {
     "data": {
      "text/plain": [
       "array([[1, 1, 1, 1, 1, 1, 1, 1, 1, 1, 1, 1, 1, 1, 1],\n",
       "       [1, 0, 0, 0, 0, 0, 0, 0, 1, 0, 0, 0, 0, 0, 1],\n",
       "       [1, 0, 1, 0, 1, 1, 1, 0, 1, 0, 1, 1, 1, 0, 1],\n",
       "       [1, 0, 0, 0, 0, 0, 1, 0, 1, 0, 0, 0, 1, 0, 1],\n",
       "       [1, 0, 1, 1, 1, 0, 1, 1, 1, 1, 1, 0, 1, 0, 1],\n",
       "       [1, 0, 1, 0, 1, 0, 0, 0, 0, 0, 0, 0, 1, 0, 1],\n",
       "       [1, 0, 1, 0, 1, 1, 1, 1, 1, 0, 1, 1, 1, 0, 1],\n",
       "       [1, 0, 0, 0, 0, 0, 0, 0, 0, 0, 0, 0, 1, 0, 1],\n",
       "       [1, 1, 1, 0, 1, 0, 1, 1, 1, 1, 1, 0, 1, 0, 1],\n",
       "       [1, 0, 0, 0, 1, 0, 0, 0, 0, 0, 1, 0, 1, 0, 1],\n",
       "       [1, 0, 1, 0, 1, 0, 1, 1, 1, 0, 1, 0, 1, 0, 1],\n",
       "       [1, 0, 0, 0, 0, 0, 1, 0, 0, 0, 1, 0, 1, 0, 1],\n",
       "       [1, 0, 1, 1, 1, 0, 1, 0, 1, 0, 1, 0, 1, 0, 1],\n",
       "       [1, 0, 0, 0, 1, 0, 0, 0, 0, 0, 1, 0, 0, 0, 1],\n",
       "       [1, 1, 1, 1, 1, 1, 1, 1, 1, 1, 1, 1, 1, 1, 1]])"
      ]
     },
     "execution_count": 14,
     "metadata": {},
     "output_type": "execute_result"
    }
   ],
   "source": [
    "map_element_to_number = {'.': 0, 'E': 0, 'S': 0, '#': 1}\n",
    "\n",
    "map = []\n",
    "with open('input_small.txt') as f:\n",
    "    for y, line in enumerate(f):\n",
    "        row = []\n",
    "        for x, char in enumerate(line.strip()):\n",
    "            row.append(map_element_to_number[char])\n",
    "            if char == 'E':\n",
    "                end_pos = (x, y)\n",
    "            elif char == 'S':\n",
    "                start_pos = (x, y)\n",
    "        map.append(row)\n",
    "    map = np.array(map)\n",
    "\n",
    "print(start_pos)\n",
    "print(end_pos)\n",
    "map"
   ]
  },
  {
   "cell_type": "code",
   "execution_count": 15,
   "id": "178d3542-d7f5-4f66-8fe0-ca3060f599f0",
   "metadata": {},
   "outputs": [
    {
     "name": "stdout",
     "output_type": "stream",
     "text": [
      "###############\n",
      "#.......#.....#\n",
      "#.#.###.#.###.#\n",
      "#.....#.#...#.#\n",
      "#.###.#####.#.#\n",
      "#.#.#.......#.#\n",
      "#.#.#####.###.#\n",
      "#...........#.#\n",
      "###.#.#####.#.#\n",
      "#...#.....#.#.#\n",
      "#.#.#.###.#.#.#\n",
      "#.....#...#.#.#\n",
      "#.###.#.#.#.#.#\n",
      "#...#.....#...#\n",
      "###############\n"
     ]
    }
   ],
   "source": [
    "def draw():\n",
    "    for y, row in enumerate(map):\n",
    "        for x, ele in enumerate(row):\n",
    "            coord = np.array([x, y])\n",
    "            if ele == 0:\n",
    "                print('.', end='')\n",
    "            elif ele == 1:\n",
    "                print('#', end='')\n",
    "        print()\n",
    "\n",
    "draw()"
   ]
  },
  {
   "cell_type": "code",
   "execution_count": 16,
   "id": "7a81f159-3cfe-4333-b397-5a77b53a15a7",
   "metadata": {},
   "outputs": [],
   "source": [
    "def get_valid_neighbors(x, y):\n",
    "    valid = []\n",
    "    shifts = ((1,0), (-1,0), (0,1), (0,-1))\n",
    "    for shift in shifts:\n",
    "        new_x = x+shift[0]\n",
    "        new_y = y+shift[1]\n",
    "        if map[new_y, new_x] == 1:\n",
    "            continue\n",
    "        if cost_map[new_y, new_x] != -1:\n",
    "            continue\n",
    "        valid.append((new_x, new_y))\n",
    "    return valid"
   ]
  },
  {
   "cell_type": "code",
   "execution_count": 31,
   "id": "6ffeb4f2-7af5-474c-a117-429851649b78",
   "metadata": {},
   "outputs": [
    {
     "data": {
      "text/plain": [
       "array([[-1, -1, -1, -1, -1, -1, -1, -1, -1, -1, -1, -1, -1, -1, -1],\n",
       "       [-1, 16, 17, 18, 19, 20, 21, 22, -1, 24, 25, 26, 27, 28, -1],\n",
       "       [-1, 15, -1, 17, -1, -1, -1, 23, -1, 23, -1, -1, -1, 29, -1],\n",
       "       [-1, 14, 15, 16, 17, 18, -1, 24, -1, 22, 21, 20, -1, 30, -1],\n",
       "       [-1, 13, -1, -1, -1, 19, -1, -1, -1, -1, -1, 19, -1, 31, -1],\n",
       "       [-1, 12, -1, 10, -1, 20, 19, 18, 17, 16, 17, 18, -1, 32, -1],\n",
       "       [-1, 11, -1,  9, -1, -1, -1, -1, -1, 15, -1, -1, -1, 31, -1],\n",
       "       [-1, 10,  9,  8,  9, 10, 11, 12, 13, 14, 15, 16, -1, 30, -1],\n",
       "       [-1, -1, -1,  7, -1,  9, -1, -1, -1, -1, -1, 17, -1, 29, -1],\n",
       "       [-1,  4,  5,  6, -1,  8,  9, 10, 11, 12, -1, 18, -1, 28, -1],\n",
       "       [-1,  3, -1,  5, -1,  7, -1, -1, -1, 13, -1, 19, -1, 27, -1],\n",
       "       [-1,  2,  3,  4,  5,  6, -1, 12, 13, 14, -1, 20, -1, 26, -1],\n",
       "       [-1,  1, -1, -1, -1,  7, -1, 11, -1, 13, -1, 21, -1, 25, -1],\n",
       "       [-1,  0,  1,  2, -1,  8,  9, 10, 11, 12, -1, 22, 23, 24, -1],\n",
       "       [-1, -1, -1, -1, -1, -1, -1, -1, -1, -1, -1, -1, -1, -1, -1]])"
      ]
     },
     "execution_count": 31,
     "metadata": {},
     "output_type": "execute_result"
    }
   ],
   "source": [
    "cost_map = -np.ones_like(map)\n",
    "cost_map[start_pos[1], start_pos[0]] = 0\n",
    "\n",
    "boundary_list = [start_pos]\n",
    "for _ in range(100):\n",
    "    new_boundary = []\n",
    "    for boundary in boundary_list:\n",
    "        cost = cost_map[boundary[1], boundary[0]]\n",
    "        neighs = get_valid_neighbors(*boundary)\n",
    "        for neighbor in neighs:\n",
    "            new_boundary.append(neighbor)\n",
    "            cost_map[neighbor[1], neighbor[0]] = cost + 1\n",
    "    boundary_list = tuple(set(new_boundary))\n",
    "\n",
    "cost_map"
   ]
  },
  {
   "cell_type": "code",
   "execution_count": null,
   "id": "7c529f2d-a202-41a6-a9ad-219bab72e9a6",
   "metadata": {},
   "outputs": [],
   "source": []
  }
 ],
 "metadata": {
  "kernelspec": {
   "display_name": "Python 3 (ipykernel)",
   "language": "python",
   "name": "python3"
  },
  "language_info": {
   "codemirror_mode": {
    "name": "ipython",
    "version": 3
   },
   "file_extension": ".py",
   "mimetype": "text/x-python",
   "name": "python",
   "nbconvert_exporter": "python",
   "pygments_lexer": "ipython3",
   "version": "3.13.1"
  }
 },
 "nbformat": 4,
 "nbformat_minor": 5
}
