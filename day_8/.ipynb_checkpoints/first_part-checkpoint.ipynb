{
 "cells": [
  {
   "cell_type": "code",
   "execution_count": null,
   "id": "b121510a-59ce-44bb-a69b-d67dd69dc87f",
   "metadata": {},
   "outputs": [],
   "source": [
    "import numpy as np"
   ]
  },
  {
   "cell_type": "code",
   "execution_count": null,
   "id": "81ba5d61-6a64-4c9d-a101-8ee99d086c8d",
   "metadata": {},
   "outputs": [],
   "source": [
    "with open('input.txt') as f:\n",
    "    lines = f.readlines()\n",
    "map = np.zeros((len(lines), len(lines[0].strip())), dtype=int)\n",
    "current_direction = 0\n",
    "for y, line in enumerate(lines):\n",
    "    for x, char in enumerate(line.strip()):\n",
    "        if char == \"#\":\n",
    "            map[y, x] = 1\n",
    "        elif char == \"^\":\n",
    "            current_position = np.array([y, x])\n",
    "        \n",
    "print(map)\n",
    "print(current_position)\n",
    "print(current_direction)"
   ]
  }
 ],
 "metadata": {
  "kernelspec": {
   "display_name": "Python 3 (ipykernel)",
   "language": "python",
   "name": "python3"
  },
  "language_info": {
   "codemirror_mode": {
    "name": "ipython",
    "version": 3
   },
   "file_extension": ".py",
   "mimetype": "text/x-python",
   "name": "python",
   "nbconvert_exporter": "python",
   "pygments_lexer": "ipython3",
   "version": "3.12.0"
  }
 },
 "nbformat": 4,
 "nbformat_minor": 5
}
