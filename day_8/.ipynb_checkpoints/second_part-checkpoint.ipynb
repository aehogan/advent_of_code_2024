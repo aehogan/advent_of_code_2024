{
 "cells": [
  {
   "cell_type": "code",
   "execution_count": 25,
   "id": "b121510a-59ce-44bb-a69b-d67dd69dc87f",
   "metadata": {},
   "outputs": [],
   "source": [
    "import numpy as np\n",
    "import itertools"
   ]
  },
  {
   "cell_type": "code",
   "execution_count": 26,
   "id": "81ba5d61-6a64-4c9d-a101-8ee99d086c8d",
   "metadata": {},
   "outputs": [
    {
     "name": "stdout",
     "output_type": "stream",
     "text": [
      "(50, 50)\n",
      "[[0 0 0 ... 0 0 0]\n",
      " [0 0 0 ... 0 0 0]\n",
      " [0 0 0 ... 0 0 0]\n",
      " ...\n",
      " [0 0 0 ... 0 0 0]\n",
      " [0 0 0 ... 0 0 0]\n",
      " [0 0 0 ... 0 0 0]]\n",
      "[['n', array([ 0, 16])], ['L', array([ 0, 33])], ['Y', array([ 0, 36])], ['m', array([1, 8])], ['n', array([ 2, 13])], ['l', array([ 2, 43])], ['T', array([ 3, 15])], ['m', array([ 3, 17])], ['e', array([ 3, 20])], ['M', array([ 3, 25])], ['T', array([ 4, 11])], ['y', array([ 4, 14])], ['i', array([ 4, 26])], ['L', array([ 4, 34])], ['2', array([ 4, 40])], ['e', array([ 5, 21])], ['h', array([ 5, 27])], ['Y', array([ 5, 35])], ['l', array([ 5, 44])], ['i', array([ 6, 19])], ['d', array([ 6, 26])], ['5', array([7, 3])], ['T', array([ 7, 18])], ['o', array([ 7, 23])], ['i', array([ 7, 30])], ['C', array([8, 6])], ['5', array([8, 8])], ['m', array([ 8, 20])], ['p', array([ 8, 23])], ['o', array([ 8, 27])], ['2', array([ 8, 37])], ['I', array([ 8, 42])], ['C', array([9, 7])], ['n', array([9, 9])], ['d', array([ 9, 21])], ['o', array([ 9, 36])], ['p', array([ 9, 41])], ['e', array([10, 14])], ['d', array([10, 23])], ['p', array([10, 24])], ['M', array([10, 30])], ['8', array([11,  2])], ['w', array([11, 12])], ['N', array([11, 14])], ['n', array([11, 20])], ['p', array([11, 22])], ['F', array([11, 28])], ['N', array([12,  7])], ['m', array([12, 15])], ['D', array([12, 21])], ['o', array([12, 26])], ['D', array([13,  8])], ['U', array([13,  9])], ['y', array([13, 21])], ['I', array([13, 31])], ['D', array([14,  2])], ['X', array([14,  5])], ['N', array([14, 12])], ['T', array([14, 14])], ['M', array([14, 19])], ['D', array([15, 11])], ['2', array([15, 26])], ['c', array([15, 27])], ['h', array([15, 30])], ['l', array([15, 31])], ['A', array([15, 33])], ['M', array([15, 38])], ['5', array([16,  1])], ['w', array([16,  3])], ['8', array([16,  5])], ['h', array([16, 21])], ['6', array([16, 22])], ['5', array([17,  0])], ['P', array([17,  6])], ['d', array([17, 22])], ['Y', array([17, 24])], ['y', array([17, 26])], ['F', array([17, 33])], ['A', array([17, 34])], ['L', array([17, 41])], ['w', array([18,  8])], ['h', array([18, 26])], ['N', array([19, 19])], ['B', array([20, 13])], ['u', array([20, 29])], ['f', array([20, 31])], ['w', array([21,  9])], ['X', array([21, 10])], ['6', array([21, 18])], ['X', array([22, 14])], ['C', array([22, 15])], ['A', array([22, 30])], ['x', array([22, 31])], ['P', array([23,  1])], ['8', array([23,  9])], ['c', array([23, 32])], ['f', array([23, 41])], ['e', array([24,  3])], ['U', array([24,  8])], ['u', array([24, 10])], ['s', array([24, 20])], ['f', array([24, 30])], ['Y', array([24, 43])], ['U', array([25, 10])], ['X', array([25, 13])], ['2', array([25, 23])], ['W', array([25, 34])], ['f', array([25, 40])], ['P', array([26,  8])], ['s', array([27,  9])], ['u', array([27, 11])], ['S', array([27, 34])], ['U', array([28,  5])], ['c', array([28, 25])], ['F', array([28, 31])], ['H', array([28, 44])], ['B', array([29,  9])], ['C', array([29, 10])], ['6', array([29, 21])], ['s', array([30, 19])], ['7', array([30, 22])], ['A', array([30, 25])], ['S', array([30, 29])], ['3', array([30, 42])], ['I', array([30, 43])], ['B', array([31,  8])], ['s', array([31, 10])], ['u', array([31, 14])], ['S', array([31, 27])], ['i', array([31, 31])], ['H', array([31, 40])], ['O', array([32,  2])], ['c', array([32, 28])], ['W', array([32, 33])], ['S', array([32, 38])], ['a', array([33, 26])], ['3', array([33, 37])], ['I', array([33, 44])], ['E', array([33, 45])], ['0', array([34,  0])], ['P', array([34,  9])], ['F', array([34, 26])], ['7', array([35, 13])], ['W', array([35, 31])], ['3', array([35, 40])], ['t', array([36,  6])], ['W', array([36,  8])], ['7', array([36, 21])], ['E', array([36, 46])], ['O', array([37,  3])], ['9', array([37,  9])], ['E', array([37, 38])], ['a', array([38,  5])], ['1', array([38,  6])], ['9', array([38,  7])], ['t', array([39,  4])], ['O', array([39, 12])], ['x', array([39, 23])], ['b', array([40, 34])], ['3', array([40, 49])], ['1', array([41,  8])], ['b', array([41, 31])], ['1', array([42,  7])], ['8', array([42, 12])], ['x', array([42, 24])], ['4', array([43,  7])], ['0', array([43,  8])], ['t', array([44,  5])], ['O', array([44,  9])], ['0', array([44, 11])], ['4', array([44, 15])], ['H', array([44, 43])], ['0', array([45,  7])], ['x', array([45, 22])], ['b', array([45, 30])], ['4', array([46,  2])], ['a', array([46, 10])], ['B', array([46, 12])], ['b', array([46, 27])], ['6', array([46, 39])], ['t', array([47,  7])], ['9', array([47,  8])], ['1', array([47, 19])], ['7', array([47, 20])], ['H', array([47, 39])], ['9', array([48, 24])], ['a', array([49, 11])]]\n",
      "['0' '1' '2' '3' '4' '5' '6' '7' '8' '9' 'A' 'B' 'C' 'D' 'E' 'F' 'H' 'I'\n",
      " 'L' 'M' 'N' 'O' 'P' 'S' 'T' 'U' 'W' 'X' 'Y' 'a' 'b' 'c' 'd' 'e' 'f' 'h'\n",
      " 'i' 'l' 'm' 'n' 'o' 'p' 's' 't' 'u' 'w' 'x' 'y']\n"
     ]
    }
   ],
   "source": [
    "with open('input.txt') as f:\n",
    "    lines = f.readlines()\n",
    "\n",
    "dim = (len(lines), len(lines[0].strip()))\n",
    "map = np.zeros(dim, dtype=int)\n",
    "towers = []\n",
    "\n",
    "for y, line in enumerate(lines):\n",
    "    for x, char in enumerate(line.strip()):\n",
    "        if char == \".\":\n",
    "            continue\n",
    "        else:\n",
    "            towers.append([char, np.array([y,x])])\n",
    "freqs = np.unique([tower[0] for tower in towers])\n",
    "print(dim)\n",
    "print(map)\n",
    "print(towers)\n",
    "print(freqs)"
   ]
  },
  {
   "cell_type": "code",
   "execution_count": 27,
   "id": "88afb14d-0fc1-4353-98ba-8c6663bb6d7a",
   "metadata": {},
   "outputs": [
    {
     "data": {
      "text/plain": [
       "{'0': [array([34,  0]), array([43,  8]), array([44, 11]), array([45,  7])],\n",
       " '1': [array([38,  6]), array([41,  8]), array([42,  7]), array([47, 19])],\n",
       " '2': [array([ 4, 40]), array([ 8, 37]), array([15, 26]), array([25, 23])],\n",
       " '3': [array([30, 42]), array([33, 37]), array([35, 40]), array([40, 49])],\n",
       " '4': [array([43,  7]), array([44, 15]), array([46,  2])],\n",
       " '5': [array([7, 3]), array([8, 8]), array([16,  1]), array([17,  0])],\n",
       " '6': [array([16, 22]), array([21, 18]), array([29, 21]), array([46, 39])],\n",
       " '7': [array([30, 22]), array([35, 13]), array([36, 21]), array([47, 20])],\n",
       " '8': [array([11,  2]), array([16,  5]), array([23,  9]), array([42, 12])],\n",
       " '9': [array([37,  9]), array([38,  7]), array([47,  8]), array([48, 24])],\n",
       " 'A': [array([15, 33]), array([17, 34]), array([22, 30]), array([30, 25])],\n",
       " 'B': [array([20, 13]), array([29,  9]), array([31,  8]), array([46, 12])],\n",
       " 'C': [array([8, 6]), array([9, 7]), array([22, 15]), array([29, 10])],\n",
       " 'D': [array([12, 21]), array([13,  8]), array([14,  2]), array([15, 11])],\n",
       " 'E': [array([33, 45]), array([36, 46]), array([37, 38])],\n",
       " 'F': [array([11, 28]), array([17, 33]), array([28, 31]), array([34, 26])],\n",
       " 'H': [array([28, 44]), array([31, 40]), array([44, 43]), array([47, 39])],\n",
       " 'I': [array([ 8, 42]), array([13, 31]), array([30, 43]), array([33, 44])],\n",
       " 'L': [array([ 0, 33]), array([ 4, 34]), array([17, 41])],\n",
       " 'M': [array([ 3, 25]), array([10, 30]), array([14, 19]), array([15, 38])],\n",
       " 'N': [array([11, 14]), array([12,  7]), array([14, 12]), array([19, 19])],\n",
       " 'O': [array([32,  2]), array([37,  3]), array([39, 12]), array([44,  9])],\n",
       " 'P': [array([17,  6]), array([23,  1]), array([26,  8]), array([34,  9])],\n",
       " 'S': [array([27, 34]), array([30, 29]), array([31, 27]), array([32, 38])],\n",
       " 'T': [array([ 3, 15]), array([ 4, 11]), array([ 7, 18]), array([14, 14])],\n",
       " 'U': [array([13,  9]), array([24,  8]), array([25, 10]), array([28,  5])],\n",
       " 'W': [array([25, 34]), array([32, 33]), array([35, 31]), array([36,  8])],\n",
       " 'X': [array([14,  5]), array([21, 10]), array([22, 14]), array([25, 13])],\n",
       " 'Y': [array([ 0, 36]), array([ 5, 35]), array([17, 24]), array([24, 43])],\n",
       " 'a': [array([33, 26]), array([38,  5]), array([46, 10]), array([49, 11])],\n",
       " 'b': [array([40, 34]), array([41, 31]), array([45, 30]), array([46, 27])],\n",
       " 'c': [array([15, 27]), array([23, 32]), array([28, 25]), array([32, 28])],\n",
       " 'd': [array([ 6, 26]), array([ 9, 21]), array([10, 23]), array([17, 22])],\n",
       " 'e': [array([ 3, 20]), array([ 5, 21]), array([10, 14]), array([24,  3])],\n",
       " 'f': [array([20, 31]), array([23, 41]), array([24, 30]), array([25, 40])],\n",
       " 'h': [array([ 5, 27]), array([15, 30]), array([16, 21]), array([18, 26])],\n",
       " 'i': [array([ 4, 26]), array([ 6, 19]), array([ 7, 30]), array([31, 31])],\n",
       " 'l': [array([ 2, 43]), array([ 5, 44]), array([15, 31])],\n",
       " 'm': [array([1, 8]), array([ 3, 17]), array([ 8, 20]), array([12, 15])],\n",
       " 'n': [array([ 0, 16]), array([ 2, 13]), array([9, 9]), array([11, 20])],\n",
       " 'o': [array([ 7, 23]), array([ 8, 27]), array([ 9, 36]), array([12, 26])],\n",
       " 'p': [array([ 8, 23]), array([ 9, 41]), array([10, 24]), array([11, 22])],\n",
       " 's': [array([24, 20]), array([27,  9]), array([30, 19]), array([31, 10])],\n",
       " 't': [array([36,  6]), array([39,  4]), array([44,  5]), array([47,  7])],\n",
       " 'u': [array([20, 29]), array([24, 10]), array([27, 11]), array([31, 14])],\n",
       " 'w': [array([11, 12]), array([16,  3]), array([18,  8]), array([21,  9])],\n",
       " 'x': [array([22, 31]), array([39, 23]), array([42, 24]), array([45, 22])],\n",
       " 'y': [array([ 4, 14]), array([13, 21]), array([17, 26])]}"
      ]
     },
     "execution_count": 27,
     "metadata": {},
     "output_type": "execute_result"
    }
   ],
   "source": [
    "towers_by_freq = {}\n",
    "for freq in freqs:\n",
    "    towers_by_freq[freq] = []\n",
    "for tower in towers:\n",
    "    towers_by_freq[tower[0]].append(tower[1])\n",
    "towers_by_freq"
   ]
  },
  {
   "cell_type": "code",
   "execution_count": 28,
   "id": "41f66b2d-33c0-43a3-9cfe-605da96e209d",
   "metadata": {},
   "outputs": [],
   "source": [
    "def is_valid(x):\n",
    "    if np.any(x < 0):\n",
    "        return False\n",
    "    elif np.any(x >= dim):\n",
    "        return False\n",
    "    return True"
   ]
  },
  {
   "cell_type": "code",
   "execution_count": 29,
   "id": "e84f29fc-93b2-4903-a849-27919c368772",
   "metadata": {},
   "outputs": [
    {
     "name": "stdout",
     "output_type": "stream",
     "text": [
      "0\n",
      "1\n",
      "2\n",
      "3\n",
      "4\n",
      "5\n",
      "6\n",
      "7\n",
      "8\n",
      "9\n",
      "A\n",
      "B\n",
      "C\n",
      "D\n",
      "E\n",
      "F\n",
      "H\n",
      "I\n",
      "L\n",
      "M\n",
      "N\n",
      "O\n",
      "P\n",
      "S\n",
      "T\n",
      "U\n",
      "W\n",
      "X\n",
      "Y\n",
      "a\n",
      "b\n",
      "c\n",
      "d\n",
      "e\n",
      "f\n",
      "h\n",
      "i\n",
      "l\n",
      "m\n",
      "n\n",
      "o\n",
      "p\n",
      "s\n",
      "t\n",
      "u\n",
      "w\n",
      "x\n",
      "y\n"
     ]
    }
   ],
   "source": [
    "for freq, towers in towers_by_freq.items():\n",
    "    print(freq)\n",
    "    for combination in itertools.combinations(towers, 2):\n",
    "        #print()\n",
    "        #print(combination)\n",
    "        diff = combination[0] - combination[1]\n",
    "\n",
    "        new_antipole = combination[0].copy()\n",
    "        while is_valid(new_antipole):\n",
    "            map[new_antipole[0], new_antipole[1]] = 1\n",
    "            #print(new_antipole)\n",
    "            new_antipole += diff\n",
    "\n",
    "        new_antipole = combination[0].copy()\n",
    "        while is_valid(new_antipole):\n",
    "            map[new_antipole[0], new_antipole[1]] = 1\n",
    "            #print(new_antipole)\n",
    "            new_antipole -= diff"
   ]
  },
  {
   "cell_type": "code",
   "execution_count": 30,
   "id": "4d3b5797-d8a9-47e1-84b9-f5e0f9965d0a",
   "metadata": {},
   "outputs": [
    {
     "data": {
      "text/plain": [
       "array([[0, 0, 1, ..., 0, 0, 1],\n",
       "       [1, 0, 0, ..., 0, 1, 0],\n",
       "       [1, 0, 0, ..., 1, 0, 0],\n",
       "       ...,\n",
       "       [1, 1, 1, ..., 1, 1, 1],\n",
       "       [0, 1, 0, ..., 1, 0, 1],\n",
       "       [1, 0, 0, ..., 1, 0, 1]])"
      ]
     },
     "execution_count": 30,
     "metadata": {},
     "output_type": "execute_result"
    }
   ],
   "source": [
    "map"
   ]
  },
  {
   "cell_type": "code",
   "execution_count": 31,
   "id": "c95b0259-8547-47e6-bfc2-817a9f7274c7",
   "metadata": {},
   "outputs": [
    {
     "data": {
      "text/plain": [
       "1174"
      ]
     },
     "execution_count": 31,
     "metadata": {},
     "output_type": "execute_result"
    }
   ],
   "source": [
    "map.sum()"
   ]
  },
  {
   "cell_type": "code",
   "execution_count": null,
   "id": "1e10feae-9daf-442a-8a3c-5d60ab1ca6fd",
   "metadata": {},
   "outputs": [],
   "source": []
  }
 ],
 "metadata": {
  "kernelspec": {
   "display_name": "Python 3 (ipykernel)",
   "language": "python",
   "name": "python3"
  },
  "language_info": {
   "codemirror_mode": {
    "name": "ipython",
    "version": 3
   },
   "file_extension": ".py",
   "mimetype": "text/x-python",
   "name": "python",
   "nbconvert_exporter": "python",
   "pygments_lexer": "ipython3",
   "version": "3.12.0"
  }
 },
 "nbformat": 4,
 "nbformat_minor": 5
}
