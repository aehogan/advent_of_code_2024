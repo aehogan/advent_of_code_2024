{
 "cells": [
  {
   "cell_type": "code",
   "execution_count": 20,
   "id": "f84eee0d-be83-4ba7-834c-88edd82d594b",
   "metadata": {},
   "outputs": [],
   "source": [
    "import re\n",
    "import numpy as np"
   ]
  },
  {
   "cell_type": "code",
   "execution_count": 21,
   "id": "f962de54-c8fc-4f1e-8406-029dee96cabe",
   "metadata": {},
   "outputs": [
    {
     "data": {
      "text/plain": [
       "6"
      ]
     },
     "execution_count": 21,
     "metadata": {},
     "output_type": "execute_result"
    }
   ],
   "source": [
    "with open('input.txt') as f:\n",
    "    input = f.readlines()\n",
    "input\n",
    "len(input)"
   ]
  },
  {
   "cell_type": "code",
   "execution_count": 30,
   "id": "4d2aea57-2777-44aa-918d-dbc755db79e9",
   "metadata": {},
   "outputs": [
    {
     "name": "stdout",
     "output_type": "stream",
     "text": [
      "175615763\n"
     ]
    },
    {
     "name": "stderr",
     "output_type": "stream",
     "text": [
      "<>:3: SyntaxWarning: invalid escape sequence '\\('\n",
      "<>:3: SyntaxWarning: invalid escape sequence '\\('\n",
      "/tmp/ipykernel_22240/1679155350.py:3: SyntaxWarning: invalid escape sequence '\\('\n",
      "  matches = re.findall(\"mul\\([0-9][0-9]?[0-9]?,[0-9][0-9]?[0-9]?\\)\", line)\n"
     ]
    }
   ],
   "source": [
    "sum = 0\n",
    "for line in input:\n",
    "    matches = re.findall(\"mul\\([0-9][0-9]?[0-9]?,[0-9][0-9]?[0-9]?\\)\", line)\n",
    "    #print(matches)\n",
    "    #print(len(matches))\n",
    "    data = np.array([[int(x) for x in match.split('(')[1].split(')')[0].split(',')] for match in matches])\n",
    "    #print(data)\n",
    "    sum += np.sum(data[:,0] * data[:,1])\n",
    "print(sum)"
   ]
  },
  {
   "cell_type": "code",
   "execution_count": null,
   "id": "1674577e-f5f5-453b-ac5d-6a797c0a6853",
   "metadata": {},
   "outputs": [],
   "source": []
  }
 ],
 "metadata": {
  "kernelspec": {
   "display_name": "Python 3 (ipykernel)",
   "language": "python",
   "name": "python3"
  },
  "language_info": {
   "codemirror_mode": {
    "name": "ipython",
    "version": 3
   },
   "file_extension": ".py",
   "mimetype": "text/x-python",
   "name": "python",
   "nbconvert_exporter": "python",
   "pygments_lexer": "ipython3",
   "version": "3.12.0"
  }
 },
 "nbformat": 4,
 "nbformat_minor": 5
}
