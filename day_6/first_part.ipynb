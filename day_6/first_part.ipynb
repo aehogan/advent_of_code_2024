{
 "cells": [
  {
   "cell_type": "code",
   "execution_count": 79,
   "id": "a34ee22a-c6a6-492f-80a1-e09c80ca9091",
   "metadata": {},
   "outputs": [],
   "source": [
    "import numpy as np\n",
    "from enum import Enum"
   ]
  },
  {
   "cell_type": "code",
   "execution_count": 80,
   "id": "0b36e6f6-d3e8-446e-8bed-6a846aa32e2e",
   "metadata": {},
   "outputs": [
    {
     "name": "stdout",
     "output_type": "stream",
     "text": [
      "[[0 0 0 0 1 0 0 0 0 0]\n",
      " [0 0 0 0 0 0 0 0 0 1]\n",
      " [0 0 0 0 0 0 0 0 0 0]\n",
      " [0 0 1 0 0 0 0 0 0 0]\n",
      " [0 0 0 0 0 0 0 1 0 0]\n",
      " [0 0 0 0 0 0 0 0 0 0]\n",
      " [0 1 0 0 0 0 0 0 0 0]\n",
      " [0 0 0 0 0 0 0 0 1 0]\n",
      " [1 0 0 0 0 0 0 0 0 0]\n",
      " [0 0 0 0 0 0 1 0 0 0]]\n",
      "[6 4]\n",
      "0\n"
     ]
    }
   ],
   "source": [
    "with open('input_small.txt') as f:\n",
    "    lines = f.readlines()\n",
    "map = np.zeros((len(lines), len(lines[0].strip())), dtype=int)\n",
    "current_direction = 0\n",
    "for x, line in enumerate(lines):\n",
    "    for y, char in enumerate(line.strip()):\n",
    "        if char == \"#\":\n",
    "            map[x, y] = 1\n",
    "        elif char == \"^\":\n",
    "            current_position = np.array([x, y])\n",
    "        \n",
    "print(map)\n",
    "print(current_position)\n",
    "print(current_direction)"
   ]
  },
  {
   "cell_type": "code",
   "execution_count": 81,
   "id": "a5463c51-5c17-4d47-9967-1ec9090b7179",
   "metadata": {},
   "outputs": [],
   "source": [
    "def get_one_ahead(position, direction, maximum):\n",
    "    if direction == 0:\n",
    "        position[1] -= 1\n",
    "    elif direction == 1:\n",
    "        position[0] += 1\n",
    "    elif direction == 2:\n",
    "        position[1] += 1\n",
    "    elif direction == 3:\n",
    "        position[0] -= 1\n",
    "    if np.max(position) >= maximum or np.min(position) < 0:\n",
    "        return False\n",
    "    else:\n",
    "        return position"
   ]
  },
  {
   "cell_type": "code",
   "execution_count": 82,
   "id": "d513ad38-8ead-42e4-a434-0e747a5ee867",
   "metadata": {},
   "outputs": [
    {
     "name": "stdout",
     "output_type": "stream",
     "text": [
      "[6 3] 0 [6 3]\n",
      "0\n",
      "[6 2] 0 [6 2]\n",
      "0\n",
      "[6 1] 0 [6 1]\n",
      "1\n",
      "wall\n",
      "[7 1] 1 [7 1]\n",
      "0\n",
      "[8 1] 1 [8 1]\n",
      "0\n",
      "[9 1] 1 [9 1]\n",
      "0\n"
     ]
    },
    {
     "data": {
      "text/plain": [
       "array([10,  1])"
      ]
     },
     "execution_count": 82,
     "metadata": {},
     "output_type": "execute_result"
    }
   ],
   "source": [
    "one_ahead = get_one_ahead(current_position, current_direction, map.shape[0])\n",
    "counter = 0\n",
    "while one_ahead is not False:\n",
    "    counter += 1\n",
    "    if counter > 10000:\n",
    "        break\n",
    "    print(current_position, current_direction, one_ahead)\n",
    "    print(map[one_ahead[0], one_ahead[1]])\n",
    "    if map[one_ahead[0], one_ahead[1]] == 1:\n",
    "        print('wall')\n",
    "        current_direction += 1\n",
    "        if current_direction == 4:\n",
    "            current_direction = 0\n",
    "        one_ahead = get_one_ahead(current_position, current_direction, map.shape[0])\n",
    "        continue\n",
    "    current_position = one_ahead\n",
    "    one_ahead = get_one_ahead(current_position, current_direction, map.shape[0])\n",
    "    \n",
    "current_position"
   ]
  },
  {
   "cell_type": "code",
   "execution_count": 85,
   "id": "46bf8760-4cbf-4762-aaca-9854e60666d0",
   "metadata": {},
   "outputs": [
    {
     "data": {
      "text/plain": [
       "1"
      ]
     },
     "execution_count": 85,
     "metadata": {},
     "output_type": "execute_result"
    }
   ],
   "source": [
    "map[1, 9]"
   ]
  },
  {
   "cell_type": "code",
   "execution_count": null,
   "id": "f34e0996-0dd3-4db2-b320-bbaef0d0f2a9",
   "metadata": {},
   "outputs": [],
   "source": []
  }
 ],
 "metadata": {
  "kernelspec": {
   "display_name": "Python 3 (ipykernel)",
   "language": "python",
   "name": "python3"
  },
  "language_info": {
   "codemirror_mode": {
    "name": "ipython",
    "version": 3
   },
   "file_extension": ".py",
   "mimetype": "text/x-python",
   "name": "python",
   "nbconvert_exporter": "python",
   "pygments_lexer": "ipython3",
   "version": "3.12.0"
  }
 },
 "nbformat": 4,
 "nbformat_minor": 5
}
