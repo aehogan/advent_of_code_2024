{
 "cells": [
  {
   "cell_type": "code",
   "execution_count": 1,
   "id": "a34ee22a-c6a6-492f-80a1-e09c80ca9091",
   "metadata": {},
   "outputs": [],
   "source": [
    "import numpy as np"
   ]
  },
  {
   "cell_type": "code",
   "execution_count": 2,
   "id": "0b36e6f6-d3e8-446e-8bed-6a846aa32e2e",
   "metadata": {},
   "outputs": [
    {
     "name": "stdout",
     "output_type": "stream",
     "text": [
      "[[0 0 0 0 1 0 0 0 0 0]\n",
      " [0 0 0 0 0 0 0 0 0 1]\n",
      " [0 0 0 0 0 0 0 0 0 0]\n",
      " [0 0 1 0 0 0 0 0 0 0]\n",
      " [0 0 0 0 0 0 0 1 0 0]\n",
      " [0 0 0 0 0 0 0 0 0 0]\n",
      " [0 1 0 0 0 0 0 0 0 0]\n",
      " [0 0 0 0 0 0 0 0 1 0]\n",
      " [1 0 0 0 0 0 0 0 0 0]\n",
      " [0 0 0 0 0 0 1 0 0 0]]\n",
      "[6 4]\n",
      "0\n"
     ]
    }
   ],
   "source": [
    "with open('input_small.txt') as f:\n",
    "    lines = f.readlines()\n",
    "map = np.zeros((len(lines), len(lines[0].strip())), dtype=int)\n",
    "current_direction = 0\n",
    "for y, line in enumerate(lines):\n",
    "    for x, char in enumerate(line.strip()):\n",
    "        if char == \"#\":\n",
    "            map[y, x] = 1\n",
    "        elif char == \"^\":\n",
    "            current_position = np.array([y, x])\n",
    "        \n",
    "print(map)\n",
    "print(current_position)\n",
    "print(current_direction)"
   ]
  },
  {
   "cell_type": "code",
   "execution_count": 3,
   "id": "a5463c51-5c17-4d47-9967-1ec9090b7179",
   "metadata": {},
   "outputs": [],
   "source": [
    "def get_one_ahead(position, direction, maximum):\n",
    "    position = position.copy()\n",
    "    if direction == 0:\n",
    "        position[0] -= 1\n",
    "    elif direction == 1:\n",
    "        position[1] += 1\n",
    "    elif direction == 2:\n",
    "        position[0] += 1\n",
    "    elif direction == 3:\n",
    "        position[1] -= 1\n",
    "    if np.max(position) >= maximum or np.min(position) < 0:\n",
    "        return False\n",
    "    else:\n",
    "        return position"
   ]
  },
  {
   "cell_type": "code",
   "execution_count": 4,
   "id": "d513ad38-8ead-42e4-a434-0e747a5ee867",
   "metadata": {},
   "outputs": [
    {
     "name": "stdout",
     "output_type": "stream",
     "text": [
      "[9 7]\n",
      "41\n"
     ]
    }
   ],
   "source": [
    "one_ahead = get_one_ahead(current_position, current_direction, map.shape[0])\n",
    "visited = []\n",
    "visited.append(current_position.copy())\n",
    "counter = 0\n",
    "while one_ahead is not False:\n",
    "    counter += 1\n",
    "    if counter > 10000:\n",
    "        break\n",
    "    #print(current_position, current_direction, one_ahead)\n",
    "    #print(map[one_ahead[0], one_ahead[1]])\n",
    "    if map[one_ahead[0], one_ahead[1]] == 1:\n",
    "        #print('wall')\n",
    "        current_direction += 1\n",
    "        if current_direction == 4:\n",
    "            current_direction = 0\n",
    "        one_ahead = get_one_ahead(current_position, current_direction, map.shape[0])\n",
    "        continue\n",
    "    current_position = one_ahead\n",
    "    #print(current_position, visited, any((current_position == x).all() for x in visited))\n",
    "    if not any((current_position == x).all() for x in visited):\n",
    "        visited.append(current_position.copy())\n",
    "    one_ahead = get_one_ahead(current_position, current_direction, map.shape[0])\n",
    "    \n",
    "print(current_position)\n",
    "print(len(visited))"
   ]
  },
  {
   "cell_type": "code",
   "execution_count": null,
   "id": "f34e0996-0dd3-4db2-b320-bbaef0d0f2a9",
   "metadata": {},
   "outputs": [],
   "source": []
  },
  {
   "cell_type": "code",
   "execution_count": null,
   "id": "0797ce77-4901-4570-973c-9d3aa74e641b",
   "metadata": {},
   "outputs": [],
   "source": []
  }
 ],
 "metadata": {
  "kernelspec": {
   "display_name": "Python 3 (ipykernel)",
   "language": "python",
   "name": "python3"
  },
  "language_info": {
   "codemirror_mode": {
    "name": "ipython",
    "version": 3
   },
   "file_extension": ".py",
   "mimetype": "text/x-python",
   "name": "python",
   "nbconvert_exporter": "python",
   "pygments_lexer": "ipython3",
   "version": "3.12.0"
  }
 },
 "nbformat": 4,
 "nbformat_minor": 5
}
